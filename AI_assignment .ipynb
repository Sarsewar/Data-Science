{
 "cells": [
  {
   "cell_type": "markdown",
   "metadata": {},
   "source": [
    "# AI Assignment \n",
    "## PROBLEM STATEMENT:\n",
    "   #### TRAIN THE  MACHINE USING THE GIVEN DATASET THAT BE AVAIL TO CLASSIFY WHETHER THE  INPUT MESSAGE IS SPAM OR HAM(NOT SPAM) BY USING NAIVE BAYE'S THEOREM.\n",
    "   "
   ]
  },
  {
   "cell_type": "code",
   "execution_count": 62,
   "metadata": {},
   "outputs": [],
   "source": [
    "from nltk.tokenize import word_tokenize\n",
    "from nltk.corpus import stopwords\n",
    "from nltk.stem import PorterStemmer\n",
    "import matplotlib.pyplot as plt\n",
    "from wordcloud import WordCloud\n",
    "from math import log,sqrt\n",
    "import pandas as pd\n",
    "import numpy as np\n",
    "%matplotlib inline\n",
    "\n"
   ]
  },
  {
   "cell_type": "markdown",
   "metadata": {},
   "source": [
    "# Loading dataset"
   ]
  },
  {
   "cell_type": "code",
   "execution_count": 63,
   "metadata": {},
   "outputs": [
    {
     "name": "stdout",
     "output_type": "stream",
     "text": [
      "Total Dataset :\n",
      "600\n"
     ]
    },
    {
     "data": {
      "text/html": [
       "<div>\n",
       "<style scoped>\n",
       "    .dataframe tbody tr th:only-of-type {\n",
       "        vertical-align: middle;\n",
       "    }\n",
       "\n",
       "    .dataframe tbody tr th {\n",
       "        vertical-align: top;\n",
       "    }\n",
       "\n",
       "    .dataframe thead th {\n",
       "        text-align: right;\n",
       "    }\n",
       "</style>\n",
       "<table border=\"1\" class=\"dataframe\">\n",
       "  <thead>\n",
       "    <tr style=\"text-align: right;\">\n",
       "      <th></th>\n",
       "      <th>spam/ham</th>\n",
       "      <th>msg</th>\n",
       "    </tr>\n",
       "  </thead>\n",
       "  <tbody>\n",
       "    <tr>\n",
       "      <th>0</th>\n",
       "      <td>ham</td>\n",
       "      <td>Go until jurong point, crazy.. Available only ...</td>\n",
       "    </tr>\n",
       "    <tr>\n",
       "      <th>1</th>\n",
       "      <td>ham</td>\n",
       "      <td>Ok lar... Joking wif u oni...</td>\n",
       "    </tr>\n",
       "    <tr>\n",
       "      <th>2</th>\n",
       "      <td>spam</td>\n",
       "      <td>Free entry in 2 a wkly comp to win FA Cup fina...</td>\n",
       "    </tr>\n",
       "    <tr>\n",
       "      <th>3</th>\n",
       "      <td>ham</td>\n",
       "      <td>U dun say so early hor... U c already then say...</td>\n",
       "    </tr>\n",
       "    <tr>\n",
       "      <th>4</th>\n",
       "      <td>ham</td>\n",
       "      <td>Nah I dont think he goes to usf, he lives arou...</td>\n",
       "    </tr>\n",
       "  </tbody>\n",
       "</table>\n",
       "</div>"
      ],
      "text/plain": [
       "  spam/ham                                                msg\n",
       "0      ham  Go until jurong point, crazy.. Available only ...\n",
       "1      ham                      Ok lar... Joking wif u oni...\n",
       "2     spam  Free entry in 2 a wkly comp to win FA Cup fina...\n",
       "3      ham  U dun say so early hor... U c already then say...\n",
       "4      ham  Nah I dont think he goes to usf, he lives arou..."
      ]
     },
     "execution_count": 63,
     "metadata": {},
     "output_type": "execute_result"
    }
   ],
   "source": [
    "mails=pd.read_csv('SMSSpamCollection',encoding='UTF-8',sep=' ',names=[\"spam/ham\",\"msg\"])\n",
    "#print (mails)\n",
    "print ('Total Dataset :')\n",
    "print (len(mails))\n",
    "mails.head()\n"
   ]
  },
  {
   "cell_type": "markdown",
   "metadata": {},
   "source": [
    "## WordCloud of SPAM "
   ]
  },
  {
   "cell_type": "code",
   "execution_count": 64,
   "metadata": {},
   "outputs": [
    {
     "name": "stdout",
     "output_type": "stream",
     "text": [
      "total spam in dataset:\n",
      "87\n"
     ]
    }
   ],
   "source": [
    "spam_words=' '.join(list(mails[mails['spam/ham']=='spam']['msg']))\n",
    "#spam_wc=WordCloud(width=512,height=512).generate(spam_words)\n",
    "#plt.figure(figsize=(10,8),facecolor='k')\n",
    "#plt.imshow(spam_wc)\n",
    "#plt.axis('off')\n",
    "#plt.tight_layout(pad=0)\n",
    "#plt.show()\n",
    "\n",
    "print ('total spam in dataset:')\n",
    "print (len(mails[mails['spam/ham']=='spam']['msg']))"
   ]
  },
  {
   "cell_type": "markdown",
   "metadata": {},
   "source": [
    "# WordCloud of HAM "
   ]
  },
  {
   "cell_type": "code",
   "execution_count": 65,
   "metadata": {},
   "outputs": [
    {
     "name": "stdout",
     "output_type": "stream",
     "text": [
      "total ham in dataset:\n",
      "513\n"
     ]
    }
   ],
   "source": [
    "#ham_words contains the words for recognizing ham\n",
    "ham_words=' '.join(list(mails[mails['spam/ham']=='ham']['msg']))\n",
    "ham_wc=WordCloud(width=512,height=512).generate(ham_words)\n",
    "#plt.figure(figsize=(10,8),facecolor='k')\n",
    "#plt.imshow(ham_wc)\n",
    "#plt.axis('off')\n",
    "#plt.tight_layout(pad=0)\n",
    "#plt.show()\n",
    "#print (ham_words)\n",
    "print ('total ham in dataset:')\n",
    "print (len(mails[mails['spam/ham']=='ham']['msg']\n",
    "))"
   ]
  },
  {
   "cell_type": "markdown",
   "metadata": {},
   "source": [
    "### Function that will tokenize words,remove stopwords"
   ]
  },
  {
   "cell_type": "code",
   "execution_count": 66,
   "metadata": {},
   "outputs": [],
   "source": [
    "def process_message(message,lower_case=True,stem=True,stop_words=True,gram=2):\n",
    "        if lower_case:\n",
    "            message = message.lower()\n",
    "        words=word_tokenize(message)\n",
    "        words=[w for w  in words if len(w) > 2]\n",
    "        if gram >1 :\n",
    "            w=[]\n",
    "            for i in range(len(words)):\n",
    "                w += [' '.join(words[i:i+1])]\n",
    "        return w\n",
    "        if stop_words:\n",
    "            sw = stop_words.words('english')\n",
    "            words = [word for word in words if word not in sw]\n",
    "        if stem: \n",
    "            stemmer=PorterStemmer()\n",
    "            words =[stemmer.stem(word) for word in words]\n",
    "        return words"
   ]
  },
  {
   "cell_type": "markdown",
   "metadata": {},
   "source": [
    "### Calculate the frequency of each words in HAM dataset"
   ]
  },
  {
   "cell_type": "code",
   "execution_count": 67,
   "metadata": {},
   "outputs": [
    {
     "name": "stdout",
     "output_type": "stream",
     "text": [
      "Total words in ham dataset is:\n",
      "1810\n"
     ]
    }
   ],
   "source": [
    "\n",
    "pm = list(process_message(ham_words))\n",
    "#print (pm)\n",
    "\n",
    "#ham_frq is list of unique words with their respective count\n",
    "from collections import Counter\n",
    "ham_freq = Counter(pm)\n",
    "print ('Total words in ham dataset is:')\n",
    "ham_word_count=len(ham_freq)\n",
    "print (ham_word_count)\n"
   ]
  },
  {
   "cell_type": "markdown",
   "metadata": {},
   "source": [
    "### Calculate the frequency of each words in SPAM dataset"
   ]
  },
  {
   "cell_type": "code",
   "execution_count": 68,
   "metadata": {},
   "outputs": [
    {
     "name": "stdout",
     "output_type": "stream",
     "text": [
      "Total Words in Spam Message :\n",
      "771\n"
     ]
    }
   ],
   "source": [
    "pm1 = list(process_message(spam_words))\n",
    "#spam_frq is list of unique words with their respective count\n",
    "from collections import Counter\n",
    "spam_freq = Counter(pm1)\n",
    "#print (spam_freq)\n",
    "spam_word_counts=len(spam_freq)\n",
    "print('Total Words in Spam Message :')\n",
    "print (spam_word_counts)\n",
    "\n",
    "\n"
   ]
  },
  {
   "cell_type": "markdown",
   "metadata": {},
   "source": [
    "# Calculating the Probability of Spam and Ham"
   ]
  },
  {
   "cell_type": "code",
   "execution_count": 69,
   "metadata": {},
   "outputs": [
    {
     "name": "stdout",
     "output_type": "stream",
     "text": [
      "Total Dataset length:\n",
      "600\n",
      "probability of Spam in datset:\n",
      "0.145\n",
      "probability of ham in dataset:\n",
      "0.855\n",
      "total words in dataset is\n",
      "771\n"
     ]
    }
   ],
   "source": [
    "\n",
    "print ('Total Dataset length:')\n",
    "total=len(mails)\n",
    "print (total)\n",
    "print ('probability of Spam in datset:')\n",
    "pro_spam=(len(mails[mails['spam/ham']=='spam']['msg'])/total)\n",
    "print (pro_spam)\n",
    "print ('probability of ham in dataset:')\n",
    "pro_ham = (len(mails[mails['spam/ham']=='ham']['msg'])/total)\n",
    "print (pro_ham)\n",
    "\n",
    "\n",
    "words_data=' '.join(list(mails['msg']))\n",
    "pm2= list(process_message(words_data))\n",
    "\n",
    "from collections import Counter\n",
    "word_freq = Counter(pm2)\n",
    "#print (spam_freq)\n",
    "word_count_total=len(spam_freq)\n",
    "print ('total words in dataset is')\n",
    "print (word_count_total)\n"
   ]
  },
  {
   "cell_type": "code",
   "execution_count": 70,
   "metadata": {},
   "outputs": [],
   "source": [
    "\n",
    "def classify(message):\n",
    "    #print (message)\n",
    "    pm=list(process_message(message))\n",
    "    #print (pm)\n",
    "    tts=0\n",
    "    tth=0\n",
    "    for w in range(len(pm)):\n",
    "        if (spam_freq[pm[w]] != 0.0 or  word_freq[pm[w]] !=0.0):\n",
    "            tts += (spam_freq[pm[w]]/word_freq[pm[w]])\n",
    "        if (ham_freq[pm[w]] != 0.0 or  word_freq[pm[w]] !=0.0):\n",
    "            tth +=(ham_freq[pm[w]]/word_freq[pm[w]])\n",
    "            \n",
    "            \n",
    "    p_spam=(tts)\n",
    "             \n",
    "    p_ham=(tth)\n",
    "   \n",
    "    print (p_spam)\n",
    "    \n",
    "    print(tth)\n",
    "    \n",
    "    if(p_spam > p_ham):\n",
    "        return ('spam')\n",
    "    else:\n",
    "        return ('ham')"
   ]
  },
  {
   "cell_type": "code",
   "execution_count": null,
   "metadata": {},
   "outputs": [],
   "source": []
  },
  {
   "cell_type": "code",
   "execution_count": 71,
   "metadata": {
    "scrolled": true
   },
   "outputs": [
    {
     "name": "stdout",
     "output_type": "stream",
     "text": [
      "2.828465720326186\n",
      "2.171534279673814\n",
      "spam\n"
     ]
    }
   ],
   "source": [
    "msg='Congratulation u have awarded with $1000.Subscribe your channel'\n",
    "result=classify(msg)\n",
    "print (result)"
   ]
  },
  {
   "cell_type": "code",
   "execution_count": 72,
   "metadata": {},
   "outputs": [
    {
     "name": "stdout",
     "output_type": "stream",
     "text": [
      "Total Dataset :\n",
      "43\n",
      "total words in dataset is\n",
      "2374\n"
     ]
    }
   ],
   "source": [
    "test=pd.read_csv('NEW.txt',encoding='UTF-8',sep=' ',names=[\"spam/ham\",\"msg\"])\n",
    "print ('Total Dataset :')\n",
    "print (len(test))\n",
    "#test.head()\n",
    "#print (test)\n",
    "words_data=' '.join(list(mails['msg']))\n",
    "pm2= list(process_message(words_data))\n",
    "\n",
    "from collections import Counter\n",
    "word_freq = Counter(pm2)\n",
    "#print (spam_freq)\n",
    "word_count_total=len(word_freq)\n",
    "print ('total words in dataset is')\n",
    "print (word_count_total)\n",
    "\n"
   ]
  },
  {
   "cell_type": "code",
   "execution_count": 73,
   "metadata": {},
   "outputs": [],
   "source": [
    "\n",
    "def classify(message):\n",
    "    #print (message)\n",
    "    pm=list(process_message(message))\n",
    "    #print (pm)\n",
    "    tts=0\n",
    "    tth=0\n",
    "    for w in range(len(pm)):\n",
    "        if(word_freq[pm[w]] == 0.0):\n",
    "            continue\n",
    "        if (spam_freq[pm[w]] != 0.0 or  word_freq[pm[w]] != 0.0):\n",
    "            tts += (spam_freq[pm[w]]/word_freq[pm[w]])\n",
    "        if (ham_freq[pm[w]] != 0.0 or  word_freq[pm[w]] != 0.0):\n",
    "            tth +=(ham_freq[pm[w]]/word_freq[pm[w]])\n",
    "            \n",
    "            \n",
    "    p_spam=(tts)\n",
    "             \n",
    "    p_ham=(tth)\n",
    "   \n",
    "    #print (p_spam)\n",
    "    \n",
    "    #print(p_ham)\n",
    "    \n",
    "    if(p_spam > p_ham):\n",
    "        return ('spam')\n",
    "    else:\n",
    "        return ('ham')"
   ]
  },
  {
   "cell_type": "code",
   "execution_count": 60,
   "metadata": {},
   "outputs": [
    {
     "name": "stdout",
     "output_type": "stream",
     "text": [
      "Accuracy\n",
      "92.3076923076923\n"
     ]
    }
   ],
   "source": [
    "sp_test_count=0\n",
    "hm_test_count=0\n",
    "\n",
    "\n",
    "message=test['msg']\n",
    "for i in range(len(message)):\n",
    "    result=classify(\"\\'\"+message[i]+\"\\'\")\n",
    "    #print (result)\n",
    "    if (result !='ham' and result !='spam'):\n",
    "        continue\n",
    "    if (result=='ham'):\n",
    "         hm_test_count=hm_test_count +1\n",
    "    if (result=='spam'):\n",
    "            sp_test_count =sp_test_count + 1\n",
    "\n",
    "            \n",
    "print (\"Accuracy\")\n",
    "#print ((hm_test_count/30)*100)\n",
    "print ((sp_test_count/13)*100)\n",
    "#print (len(test[test['spam/ham']=='ham']))"
   ]
  },
  {
   "cell_type": "code",
   "execution_count": null,
   "metadata": {},
   "outputs": [],
   "source": []
  },
  {
   "cell_type": "code",
   "execution_count": null,
   "metadata": {},
   "outputs": [],
   "source": []
  }
 ],
 "metadata": {
  "kernelspec": {
   "display_name": "Python 3",
   "language": "python",
   "name": "python3"
  },
  "language_info": {
   "codemirror_mode": {
    "name": "ipython",
    "version": 3
   },
   "file_extension": ".py",
   "mimetype": "text/x-python",
   "name": "python",
   "nbconvert_exporter": "python",
   "pygments_lexer": "ipython3",
   "version": "3.6.4"
  }
 },
 "nbformat": 4,
 "nbformat_minor": 2
}
